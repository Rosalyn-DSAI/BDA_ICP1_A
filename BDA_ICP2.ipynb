{
  "nbformat": 4,
  "nbformat_minor": 0,
  "metadata": {
    "colab": {
      "provenance": [],
      "authorship_tag": "ABX9TyOCck5LVuhGlgPcRGDDrw7G",
      "include_colab_link": true
    },
    "kernelspec": {
      "name": "python3",
      "display_name": "Python 3"
    },
    "language_info": {
      "name": "python"
    }
  },
  "cells": [
    {
      "cell_type": "markdown",
      "metadata": {
        "id": "view-in-github",
        "colab_type": "text"
      },
      "source": [
        "<a href=\"https://colab.research.google.com/github/Rosalyn-DSAI/BDA_ICP1_A/blob/main/BDA_ICP2.ipynb\" target=\"_parent\"><img src=\"https://colab.research.google.com/assets/colab-badge.svg\" alt=\"Open In Colab\"/></a>"
      ]
    },
    {
      "cell_type": "code",
      "execution_count": 19,
      "metadata": {
        "id": "ZyXlfhsXs1G1",
        "colab": {
          "base_uri": "https://localhost:8080/"
        },
        "outputId": "e0140a50-294e-45e5-ef3b-1ce882fc45bc"
      },
      "outputs": [
        {
          "output_type": "stream",
          "name": "stdout",
          "text": [
            "Instance count: 2, Class count: 3\n",
            "Instance count: 1, Class count: 3\n"
          ]
        }
      ],
      "source": [
        "class Counter:\n",
        "  count = 0\n",
        "\n",
        "  def __init__(self):\n",
        "    self._count = 0\n",
        "\n",
        "  def increment(self):\n",
        "    self._count += 1\n",
        "    Counter.count += 1\n",
        "\n",
        "  def get_counts(self):\n",
        "    return f\"Instance count: {self._count}, Class count: {Counter.count}\"\n",
        "\n",
        "a = Counter()\n",
        "b = Counter()\n",
        "\n",
        "a.increment()\n",
        "a.increment()\n",
        "b.increment()\n",
        "\n",
        "print(a.get_counts())\n",
        "print(b.get_counts())"
      ]
    },
    {
      "cell_type": "code",
      "source": [
        "# Tasks:\n",
        "# • Explain the difference between Counter.count and self._count.\n",
        "\n",
        "# Class.count\n",
        "# Class variable shared across all instances\n",
        "# This attribute is public instance attribute accessed directly through Counter.count.\n",
        "\n",
        "# Self._count\n",
        "# It belongs to an Instance variable, unique per object, not to the class itself.It increments the object counter.\n",
        "# _count indicates that the attribute is intended to be protected and used for internally only (should not be accessed outside the class directly, but not truly private).\n",
        "\n",
        "\n",
        "# • What is the output of a.get_counts() and b.get_counts()?\n",
        "# Instance count: 2, Class count: 3\n",
        "# Instance count: 1, Class count: 3\n",
        "\n",
        "# • How does the increment method affect both the class and instance variables?\n",
        "# When increment is called on any instance variable, it increases Counter.count which is a class variable shared by all instances and the class itself by 1.\n",
        "\n",
        "\n"
      ],
      "metadata": {
        "id": "cTaCtRJ_LanH"
      },
      "execution_count": null,
      "outputs": []
    },
    {
      "cell_type": "code",
      "source": [
        "#2. Find and remove the bug from the code to obtain the given output.\n",
        "#def sum_all(args):\n",
        "   # return sum(args).......\n",
        "\n",
        "def sum_all(*args):\n",
        "    return sum(args)\n",
        "\n",
        "print(\"Sum of 1, 2, 3 is:\", sum_all(1, 2, 3))\n",
        "print(\"Sum of 4, 5, 6, 7 is:\", sum_all(4, 5, 6, 7))\n"
      ],
      "metadata": {
        "id": "WG-fEmG10OBB",
        "colab": {
          "base_uri": "https://localhost:8080/"
        },
        "outputId": "969601f2-d02b-40bd-edfc-0e85f3d0e8cc"
      },
      "execution_count": 20,
      "outputs": [
        {
          "output_type": "stream",
          "name": "stdout",
          "text": [
            "Sum of 1, 2, 3 is: 6\n",
            "Sum of 4, 5, 6, 7 is: 22\n"
          ]
        }
      ]
    },
    {
      "cell_type": "code",
      "source": [
        "#3. Write a function called first_word that takes a list of character strings as input and returns the first\n",
        "#element of the list in alphabetical order. For example, your function should work like this:\n",
        "\n",
        "def first_word(word_list): # Sort the list first\n",
        "    sorted_list = sorted(word_list) # Identify the first element within the function\n",
        "    return sorted_list[0]\n",
        "\n",
        "\n",
        "students = ['Mary', 'Zelda', 'Jimmy', 'Jack', 'Bartholomew', 'Gertrude']\n",
        "print(first_word(students))\n"
      ],
      "metadata": {
        "id": "gw1cq8HV2iwm",
        "colab": {
          "base_uri": "https://localhost:8080/"
        },
        "outputId": "94fe66b0-9674-4ed3-c59a-8bacce180280"
      },
      "execution_count": 21,
      "outputs": [
        {
          "output_type": "stream",
          "name": "stdout",
          "text": [
            "Bartholomew\n"
          ]
        }
      ]
    },
    {
      "cell_type": "code",
      "source": [
        "#4. Create a class Employee and then do the following\n",
        "#• Create a data member to count the number of Employees\n",
        "#• Create a constructor to initialize name, family, salary, department\n",
        "#• Create a function to average salary\n",
        "#• Create a Fulltime Employee class and it should inherit the properties of Employee class\n",
        "#• Create the instances of Fulltime Employee class and Employee class and call their member functions.\n",
        "\n",
        "\n",
        "class Employee:\n",
        "    employee_count = 0 #data member/class variable to count Employees\n",
        "    total_salary = 0\n",
        "\n",
        "\n",
        "#Create a constructor to initialize name, family, salary, department\n",
        "    def __init__(self, name, family, salary, department):\n",
        "        self.name = name\n",
        "        self.family = family\n",
        "        self.salary = salary\n",
        "        self.department = department\n",
        "        Employee.employee_count += 1 #for every employee instance created, employee_count increments by 1\n",
        "        Employee.total_salary += salary #to calculate average salary, we need to know the total salary\n",
        "\n",
        "#Create a function to average salary\n",
        "    @classmethod\n",
        "    def average_salary(emp):\n",
        "        if emp.employee_count == 0:\n",
        "            return 0\n",
        "        return emp.total_salary / emp.employee_count\n",
        "\n",
        "#Create a Fulltime Employee class and it should inherit the properties of Employee class\n",
        "class FulltimeEmployee(Employee):\n",
        "    def __init__(self, name, family, salary, department):\n",
        "        super().__init__(name, family, salary, department)\n",
        "\n",
        "#Create the instances of Fulltime Employee class and Employee class and call their member functions.\n",
        "emp1 = Employee(\"Clinton\", \"Ezeako\", 20000, \"Tech\")\n",
        "emp2 = Employee(\"Henry\", \"Kings\", 30000, \"Health\")\n",
        "ft_emp1 = FulltimeEmployee(\"Frances\", \"Leo\", 40000, \"Banking\")\n",
        "\n",
        "#Call their member functions\n",
        "print(f\"Total employees: {Employee.employee_count}\")\n",
        "print(f\"Average salary: {Employee.average_salary():.2f}\")"
      ],
      "metadata": {
        "id": "HYpalAJOH0qO",
        "colab": {
          "base_uri": "https://localhost:8080/"
        },
        "outputId": "5cba704a-beab-458d-9813-48188d084fe4"
      },
      "execution_count": 22,
      "outputs": [
        {
          "output_type": "stream",
          "name": "stdout",
          "text": [
            "Total employees: 3\n",
            "Average salary: 30000.00\n"
          ]
        }
      ]
    },
    {
      "cell_type": "markdown",
      "source": [],
      "metadata": {
        "id": "atL_9l22Hlbe"
      }
    }
  ]
}