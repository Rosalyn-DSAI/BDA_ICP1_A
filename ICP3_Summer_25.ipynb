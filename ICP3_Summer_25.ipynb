{
  "nbformat": 4,
  "nbformat_minor": 0,
  "metadata": {
    "colab": {
      "provenance": [],
      "authorship_tag": "ABX9TyNPOGvj+lTByRq/myPHQAve",
      "include_colab_link": true
    },
    "kernelspec": {
      "name": "python3",
      "display_name": "Python 3"
    },
    "language_info": {
      "name": "python"
    }
  },
  "cells": [
    {
      "cell_type": "markdown",
      "metadata": {
        "id": "view-in-github",
        "colab_type": "text"
      },
      "source": [
        "<a href=\"https://colab.research.google.com/github/Rosalyn-DSAI/BDA_ICP1_A/blob/main/ICP3_Summer_25.ipynb\" target=\"_parent\"><img src=\"https://colab.research.google.com/assets/colab-badge.svg\" alt=\"Open In Colab\"/></a>"
      ]
    },
    {
      "cell_type": "code",
      "execution_count": 1,
      "metadata": {
        "colab": {
          "base_uri": "https://localhost:8080/"
        },
        "id": "vHQPSJDteDoF",
        "outputId": "42c3e52b-573e-47b0-e8ef-65ab3a59a99a"
      },
      "outputs": [
        {
          "output_type": "stream",
          "name": "stdout",
          "text": [
            "[ 1  7 16 17  4 18  9 11  2  2  2  1  8 10  4]\n"
          ]
        }
      ],
      "source": [
        "#a. Using NumPy create random vector of size 15 having only Integers in the range 1-20.\n",
        "import numpy as np\n",
        "\n",
        "# Generate a random vector of size 15 with integers in the range 1-20\n",
        "random_vector = np.random.randint(low=1, high=21, size=15)\n",
        "\n",
        "# Print the generated vector\n",
        "print(random_vector)"
      ]
    },
    {
      "cell_type": "code",
      "source": [
        "# 1 Reshape the array to 3 by 5\n",
        "# [[ 1  7 16 17  4]\n",
        "# [18  9 11  2  2]\n",
        "# [ 2  1  8 10  4]]\n",
        "a = np.array([[1,7,16,7,4], [18,9,11,2,2], [2,1,8,10,4]])\n",
        "print (a)\n"
      ],
      "metadata": {
        "colab": {
          "base_uri": "https://localhost:8080/"
        },
        "id": "UV2T5D9miMhh",
        "outputId": "11b5b68c-72e7-4e5a-a2b5-4230984fc9ed"
      },
      "execution_count": 6,
      "outputs": [
        {
          "output_type": "stream",
          "name": "stdout",
          "text": [
            "[[ 1  7 16  7  4]\n",
            " [18  9 11  2  2]\n",
            " [ 2  1  8 10  4]]\n"
          ]
        }
      ]
    },
    {
      "cell_type": "code",
      "source": [
        "# Alternatively\n",
        "reshaped_array = random_vector.reshape(3, 5)\n",
        "print(reshaped_array)"
      ],
      "metadata": {
        "colab": {
          "base_uri": "https://localhost:8080/"
        },
        "id": "DaZMrIe9jD6f",
        "outputId": "9eede850-be32-4703-f68c-75b6f6ce4e0a"
      },
      "execution_count": 7,
      "outputs": [
        {
          "output_type": "stream",
          "name": "stdout",
          "text": [
            "[[ 1  7 16 17  4]\n",
            " [18  9 11  2  2]\n",
            " [ 2  1  8 10  4]]\n"
          ]
        }
      ]
    },
    {
      "cell_type": "code",
      "source": [
        "# 2. Print array shape.\n",
        "print(reshaped_array.shape)"
      ],
      "metadata": {
        "colab": {
          "base_uri": "https://localhost:8080/"
        },
        "id": "M8SillcHj1nR",
        "outputId": "f6fc3c6f-2d5e-4460-82cf-6d079516b118"
      },
      "execution_count": 8,
      "outputs": [
        {
          "output_type": "stream",
          "name": "stdout",
          "text": [
            "(3, 5)\n"
          ]
        }
      ]
    },
    {
      "cell_type": "code",
      "source": [
        "# 3. Replace the max in each row by 0\n",
        "max_indices = np.argmax(reshaped_array, axis=1)\n",
        "reshaped_array[np.arange(reshaped_array.shape[0]), max_indices] = 0\n",
        "print(reshaped_array)"
      ],
      "metadata": {
        "colab": {
          "base_uri": "https://localhost:8080/"
        },
        "id": "V9Zci6s8k4R9",
        "outputId": "c001790e-037d-4e34-cda2-e525a1e4e23b"
      },
      "execution_count": 9,
      "outputs": [
        {
          "output_type": "stream",
          "name": "stdout",
          "text": [
            "[[ 1  7 16  0  4]\n",
            " [ 0  9 11  2  2]\n",
            " [ 2  1  8  0  4]]\n"
          ]
        }
      ]
    },
    {
      "cell_type": "code",
      "source": [
        "# b. Create a 2-dimensional array of size 4 x 3 (composed of 4-byte integer\n",
        "# elements), also print the shape, type and data type of the array\n",
        "import numpy as np\n",
        "array_2d = np.array([[1,2,3,4], [5,6,7,8,],[9,10,11,12]], dtype=np.int32)\n",
        "print(array_2d)\n",
        "print(array_2d.shape)\n",
        "print(array_2d.dtype)"
      ],
      "metadata": {
        "colab": {
          "base_uri": "https://localhost:8080/"
        },
        "id": "8mxleECNluXd",
        "outputId": "ddda1481-d8c3-45e6-aa24-f8abaa4eec00"
      },
      "execution_count": 4,
      "outputs": [
        {
          "output_type": "stream",
          "name": "stdout",
          "text": [
            "[[ 1  2  3  4]\n",
            " [ 5  6  7  8]\n",
            " [ 9 10 11 12]]\n",
            "(3, 4)\n",
            "int32\n"
          ]
        }
      ]
    },
    {
      "cell_type": "code",
      "source": [
        "# c. Write a program to compute the eigenvalues and right eigenvectors of a\n",
        "# given square array given below: [[ 3 -2] [ 1 0]]\n",
        "import numpy as np\n",
        "array = np.array([[3,2], [1,0]])\n",
        "eigenvalues, eigenvectors = np.linalg.eig(array)\n",
        "print(\"Eigenvalues:\", eigenvalues)\n",
        "print(\"Right Eigenvectors:\", eigenvectors)\n"
      ],
      "metadata": {
        "colab": {
          "base_uri": "https://localhost:8080/"
        },
        "id": "OpL-pI0OfPGM",
        "outputId": "ae319496-02dc-426f-c487-670655f3b874"
      },
      "execution_count": 5,
      "outputs": [
        {
          "output_type": "stream",
          "name": "stdout",
          "text": [
            "Eigenvalues: [ 3.56155281 -0.56155281]\n",
            "Right Eigenvectors: [[ 0.96276969 -0.48963374]\n",
            " [ 0.27032301  0.87192821]]\n"
          ]
        }
      ]
    },
    {
      "cell_type": "code",
      "source": [
        "# d. Compute the sum of the diagonal element of a given array:\n",
        "# [[0 1 2]\n",
        "# [3 4 5]]\n",
        "import numpy as np\n",
        "array = np.array([[0,1,2], [3,4,5]])\n",
        "diagonal_sum = np.trace(array)\n",
        "print(\"Sum of diagonal elements:\", diagonal_sum)"
      ],
      "metadata": {
        "colab": {
          "base_uri": "https://localhost:8080/"
        },
        "id": "qCfwTSMvg4Qx",
        "outputId": "b1512144-4908-4cae-b968-598b73c1206c"
      },
      "execution_count": 9,
      "outputs": [
        {
          "output_type": "stream",
          "name": "stdout",
          "text": [
            "Sum of diagonal elements: 4\n"
          ]
        }
      ]
    },
    {
      "cell_type": "code",
      "source": [
        "# e. Write a NumPy program to create a new shape to an array without changing\n",
        "# its data.\n",
        "\n",
        "import numpy as np\n",
        "array = np.array([1,2,3,4,5,6])\n",
        "new_shape = (3,2)\n",
        "new_shape2 = (2,3)\n",
        "reshaped_array = np.reshape(array, new_shape, order='F')\n",
        "reshaped_array2 = np.reshape(array, new_shape2, order= 'F')\n",
        "print(reshaped_array)\n",
        "print(reshaped_array2)"
      ],
      "metadata": {
        "colab": {
          "base_uri": "https://localhost:8080/"
        },
        "id": "kWRt6e-diddP",
        "outputId": "d9103e5a-6488-4a35-8b7b-094c0ee3e205"
      },
      "execution_count": 12,
      "outputs": [
        {
          "output_type": "stream",
          "name": "stdout",
          "text": [
            "[[1 4]\n",
            " [2 5]\n",
            " [3 6]]\n",
            "[[1 3 5]\n",
            " [2 4 6]]\n"
          ]
        }
      ]
    }
  ]
}